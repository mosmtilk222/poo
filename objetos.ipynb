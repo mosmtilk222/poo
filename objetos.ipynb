{
  "nbformat": 4,
  "nbformat_minor": 0,
  "metadata": {
    "colab": {
      "provenance": [],
      "authorship_tag": "ABX9TyPbFYpDLhbooA/Cb5jOeWDJ",
      "include_colab_link": true
    },
    "kernelspec": {
      "name": "python3",
      "display_name": "Python 3"
    },
    "language_info": {
      "name": "python"
    }
  },
  "cells": [
    {
      "cell_type": "markdown",
      "metadata": {
        "id": "view-in-github",
        "colab_type": "text"
      },
      "source": [
        "<a href=\"https://colab.research.google.com/github/mosmtilk222/poo/blob/main/objetos.ipynb\" target=\"_parent\"><img src=\"https://colab.research.google.com/assets/colab-badge.svg\" alt=\"Open In Colab\"/></a>"
      ]
    },
    {
      "cell_type": "code",
      "source": [
        "import pickle\n",
        "list=[\"apple\", \"grapes\",\"pear\"]\n",
        "with open(\"lst.pkl\",'wb') as file:\n",
        "  pickle.dump(list,file)\n",
        "# lista guardado en un archivo serializando la lista"
      ],
      "metadata": {
        "id": "O3JmJPNLJxtb"
      },
      "execution_count": 10,
      "outputs": []
    },
    {
      "cell_type": "code",
      "execution_count": 11,
      "metadata": {
        "colab": {
          "base_uri": "https://localhost:8080/"
        },
        "id": "oO_LkJq1JUV7",
        "outputId": "4a2469aa-0695-47ea-a556-4d054a054fe6"
      },
      "outputs": [
        {
          "output_type": "stream",
          "name": "stdout",
          "text": [
            "['apple', 'grapes', 'pear']\n"
          ]
        }
      ],
      "source": [
        "import pickle\n",
        "\n",
        "with open(\"lst.pkl\",'rb') as file:\n",
        "  retrive_list= pickle.load(file)\n",
        "print(retrive_list)"
      ]
    },
    {
      "cell_type": "code",
      "source": [
        "import pickle\n",
        "import os\n",
        "class Student:\n",
        "  def __init__(self, student_id, name, age, gender, grade, email, phone, address):\n",
        "    self.student_id = student_id\n",
        "    self.name = name\n",
        "    self.age = age\n",
        "    self.gender = gender\n",
        "    self.grade = grade\n",
        "    self.email = email\n",
        "    self.phone = phone\n",
        "    self.address = address\n",
        "\n",
        "\n",
        "  def __str__(self):\n",
        "    return (f\"ID: {self.student_id}, Name: {self.name}, Age: {self.age}, Gender: {self.gender}, \"\n",
        "            f\"Grade: {self.grade}, Email: {self.email}, Phone: {self.phone}, Address: {self.address}\")\n",
        "class StudentCRUD:\n",
        "  FILE_NAME = 'students.pkl'\n",
        "  def __init__(self):\n",
        "    self.students = self.load_students()\n",
        "  def load_students(self):\n",
        "    \"\"\"Load students from the pickle file.\"\"\"\n",
        "    if os.path.exists(self.FILE_NAME):\n",
        "      with open(self.FILE_NAME, 'rb') as f:\n",
        "        return pickle.load(f)\n",
        "    return []\n",
        "  def save_students(self):\n",
        "    \"\"\"Save students to the pickle file.\"\"\"\n",
        "    with open(self.FILE_NAME, 'wb') as f:\n",
        "      pickle.dump(self.students, f)\n",
        "  def create_student(self, student):\n",
        "    \"\"\"Add a new student.\"\"\"\n",
        "    self.students.append(student)\n",
        "    self.save_students()\n",
        "    print(f\"Student {student.name} added successfully.\")\n",
        "  def read_student(self, student_id):\n",
        "    \"\"\"Retrieve a student by ID.\"\"\"\n",
        "    for student in self.students:\n",
        "      if student.student_id == student_id:\n",
        "        return student\n",
        "    print(f\"No student found with ID: {student_id}\")\n",
        "    return None\n",
        "  def update_student(self, student_id, **kwargs):\n",
        "    \"\"\"Update student information.\"\"\"\n",
        "    student = self.read_student(student_id)\n",
        "    if student:\n",
        "      for key, value in kwargs.items():\n",
        "        if hasattr(student, key):\n",
        "          setattr(student, key, value)\n",
        "      self.save_students()\n",
        "      print(f\"Student {student_id} updated successfully.\")\n",
        "  def delete_student(self, student_id):\n",
        "    \"\"\"Delete a student by ID.\"\"\"\n",
        "    student = self.read_student(student_id)\n",
        "    if student:\n",
        "      self.students.remove(student)\n",
        "      self.save_students()\n",
        "      print(f\"Student {student_id} deleted successfully.\")\n",
        "  def list_students(self):\n",
        "    \"\"\"List all students.\"\"\"\n",
        "    if self.students:\n",
        "      for student in self.students:\n",
        "        print(student)\n",
        "    else:\n",
        "      print(\"No students available.\")\n",
        "\n",
        "  # Example usage\n",
        "if __name__ == '__main__':\n",
        "  crud = StudentCRUD()\n",
        "  #\n",
        "  student1 = Student(1, \"Alice\", 20, \"Female\", \"A\", \"alice@example.com\", \"1234567890\", \"123 Main St\")\n",
        "  student2 = Student(2, \"Bob\", 22, \"Male\", \"B\", \"bob@example.com\", \"0987654321\", \"456 Elm St\")\n",
        "  #\n",
        "  crud.create_student(student1)\n",
        "  crud.create_student(student2)\n",
        "  #\n",
        "  print(\"\\nList of Students:\")\n",
        "  crud.list_students()\n",
        "  #\n",
        "  crud.update_student(1, grade=\"A+\", phone=\"1112223333\")\n",
        "  #\n",
        "  print(\"\\nUpdated Student Details:\")\n",
        "  print(crud.read_student(1))\n",
        "  #\n",
        "  crud.delete_student(2)\n",
        "  #\n",
        "  print(\"\\nList of Students after Deletion:\")\n",
        "  crud.list_students()"
      ],
      "metadata": {
        "colab": {
          "base_uri": "https://localhost:8080/"
        },
        "id": "HO-NXLcBJjF7",
        "outputId": "3ef7ad58-b407-43a0-8186-b15ff04f4f20"
      },
      "execution_count": 12,
      "outputs": [
        {
          "output_type": "stream",
          "name": "stdout",
          "text": [
            "Student Alice added successfully.\n",
            "Student Bob added successfully.\n",
            "\n",
            "List of Students:\n",
            "ID: 1, Name: Alice, Age: 20, Gender: Female, Grade: A+, Email: alice@example.com, Phone: 1112223333, Address: 123 Main St\n",
            "ID: 1, Name: Alice, Age: 20, Gender: Female, Grade: A, Email: alice@example.com, Phone: 1234567890, Address: 123 Main St\n",
            "ID: 1, Name: Alice, Age: 20, Gender: Female, Grade: A, Email: alice@example.com, Phone: 1234567890, Address: 123 Main St\n",
            "ID: 2, Name: Bob, Age: 22, Gender: Male, Grade: B, Email: bob@example.com, Phone: 0987654321, Address: 456 Elm St\n",
            "ID: 1, Name: Alice, Age: 20, Gender: Female, Grade: A, Email: alice@example.com, Phone: 1234567890, Address: 123 Main St\n",
            "ID: 2, Name: Bob, Age: 22, Gender: Male, Grade: B, Email: bob@example.com, Phone: 0987654321, Address: 456 Elm St\n",
            "Student 1 updated successfully.\n",
            "\n",
            "Updated Student Details:\n",
            "ID: 1, Name: Alice, Age: 20, Gender: Female, Grade: A+, Email: alice@example.com, Phone: 1112223333, Address: 123 Main St\n",
            "Student 2 deleted successfully.\n",
            "\n",
            "List of Students after Deletion:\n",
            "ID: 1, Name: Alice, Age: 20, Gender: Female, Grade: A+, Email: alice@example.com, Phone: 1112223333, Address: 123 Main St\n",
            "ID: 1, Name: Alice, Age: 20, Gender: Female, Grade: A, Email: alice@example.com, Phone: 1234567890, Address: 123 Main St\n",
            "ID: 1, Name: Alice, Age: 20, Gender: Female, Grade: A, Email: alice@example.com, Phone: 1234567890, Address: 123 Main St\n",
            "ID: 1, Name: Alice, Age: 20, Gender: Female, Grade: A, Email: alice@example.com, Phone: 1234567890, Address: 123 Main St\n",
            "ID: 2, Name: Bob, Age: 22, Gender: Male, Grade: B, Email: bob@example.com, Phone: 0987654321, Address: 456 Elm St\n"
          ]
        }
      ]
    },
    {
      "cell_type": "code",
      "source": [],
      "metadata": {
        "id": "PYjhQrp-J3sS"
      },
      "execution_count": null,
      "outputs": []
    }
  ]
}