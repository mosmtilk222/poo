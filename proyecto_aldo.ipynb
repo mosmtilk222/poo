{
  "cells": [
    {
      "cell_type": "code",
      "source": [
        "!pip install -q streamlit"
      ],
      "metadata": {
        "id": "b7lA7RR4T_wz",
        "colab": {
          "base_uri": "https://localhost:8080/"
        },
        "outputId": "2c87fbfc-009f-4915-abe3-849b73c11200"
      },
      "id": "b7lA7RR4T_wz",
      "execution_count": 1,
      "outputs": [
        {
          "output_type": "stream",
          "name": "stdout",
          "text": [
            "\u001b[2K     \u001b[90m━━━━━━━━━━━━━━━━━━━━━━━━━━━━━━━━━━━━━━━\u001b[0m \u001b[32m44.3/44.3 kB\u001b[0m \u001b[31m895.9 kB/s\u001b[0m eta \u001b[36m0:00:00\u001b[0m\n",
            "\u001b[2K   \u001b[90m━━━━━━━━━━━━━━━━━━━━━━━━━━━━━━━━━━━━━━━━\u001b[0m \u001b[32m9.9/9.9 MB\u001b[0m \u001b[31m23.4 MB/s\u001b[0m eta \u001b[36m0:00:00\u001b[0m\n",
            "\u001b[2K   \u001b[90m━━━━━━━━━━━━━━━━━━━━━━━━━━━━━━━━━━━━━━━━\u001b[0m \u001b[32m6.9/6.9 MB\u001b[0m \u001b[31m29.3 MB/s\u001b[0m eta \u001b[36m0:00:00\u001b[0m\n",
            "\u001b[2K   \u001b[90m━━━━━━━━━━━━━━━━━━━━━━━━━━━━━━━━━━━━━━━━\u001b[0m \u001b[32m79.1/79.1 kB\u001b[0m \u001b[31m3.9 MB/s\u001b[0m eta \u001b[36m0:00:00\u001b[0m\n",
            "\u001b[?25h"
          ]
        }
      ]
    },
    {
      "cell_type": "code",
      "source": [
        "%%writefile birthday.py\n",
        "import csv\n",
        "import random\n",
        "from datetime import datetime, date\n",
        "import smtplib\n",
        "from email.mime.text import MIMEText\n",
        "\n",
        "class Birthday:\n",
        "    def __init__(self, name, birthdate, email, message_id=None):\n",
        "        self.name = name\n",
        "        self.birthdate = datetime.strptime(birthdate, \"%Y-%m-%d\").date()\n",
        "        self.email = email\n",
        "        self.message_id = message_id  # id del mensaje personalizado o None\n",
        "\n",
        "    def days_until_birthday(self):\n",
        "        today = date.today()\n",
        "        next_birthday = self.birthdate.replace(year=today.year)\n",
        "        if next_birthday < today:\n",
        "            next_birthday = next_birthday.replace(year=today.year + 1)\n",
        "        return (next_birthday - today).days\n",
        "\n",
        "class BirthdayManager:\n",
        "    def __init__(self, filename=\"birthdays.csv\"):\n",
        "        self.filename = filename\n",
        "        self.birthdays = self.load_birthdays()\n",
        "\n",
        "    def load_birthdays(self):\n",
        "        birthdays = []\n",
        "        try:\n",
        "            with open(self.filename, newline='', encoding=\"utf-8\") as csvfile:\n",
        "                reader = csv.DictReader(csvfile)\n",
        "                for row in reader:\n",
        "                    message_id = int(row[\"message_id\"]) if row.get(\"message_id\") else None\n",
        "                    birthdays.append(Birthday(row[\"name\"], row[\"birthdate\"], row[\"email\"], message_id))\n",
        "        except FileNotFoundError:\n",
        "            pass\n",
        "        return birthdays\n",
        "\n",
        "    def save_birthdays(self):\n",
        "        with open(self.filename, \"w\", newline='', encoding=\"utf-8\") as csvfile:\n",
        "            fieldnames = [\"name\", \"birthdate\", \"email\", \"message_id\"]\n",
        "            writer = csv.DictWriter(csvfile, fieldnames=fieldnames)\n",
        "            writer.writeheader()\n",
        "            for b in self.birthdays:\n",
        "                writer.writerow({\n",
        "                    \"name\": b.name,\n",
        "                    \"birthdate\": b.birthdate.strftime(\"%Y-%m-%d\"),\n",
        "                    \"email\": b.email,\n",
        "                    \"message_id\": b.message_id if b.message_id is not None else \"\"\n",
        "                })\n",
        "\n",
        "    def add_birthday(self, name, birthdate, email, message_id=None):\n",
        "        self.birthdays.append(Birthday(name, birthdate, email, message_id))\n",
        "        self.save_birthdays()\n",
        "\n",
        "    def get_upcoming_birthdays(self):\n",
        "        return sorted(self.birthdays, key=lambda b: b.days_until_birthday())\n",
        "\n",
        "class Message:\n",
        "    def __init__(self, id_, text):\n",
        "        self.id = id_\n",
        "        self.text = text\n",
        "\n",
        "class MessageManager:\n",
        "    def __init__(self, filename=\"messages.csv\"):\n",
        "        self.filename = filename\n",
        "        self.messages = self.load_messages()\n",
        "\n",
        "    def load_messages(self):\n",
        "        messages = []\n",
        "        try:\n",
        "            with open(self.filename, newline='', encoding=\"utf-8\") as csvfile:\n",
        "                reader = csv.DictReader(csvfile)\n",
        "                for row in reader:\n",
        "                    messages.append(Message(int(row[\"id\"]), row[\"text\"]))\n",
        "        except FileNotFoundError:\n",
        "            pass\n",
        "        return messages\n",
        "\n",
        "    def save_messages(self):\n",
        "        with open(self.filename, \"w\", newline='', encoding=\"utf-8\") as csvfile:\n",
        "            fieldnames = [\"id\", \"text\"]\n",
        "            writer = csv.DictWriter(csvfile, fieldnames=fieldnames)\n",
        "            writer.writeheader()\n",
        "            for m in self.messages:\n",
        "                writer.writerow({\"id\": m.id, \"text\": m.text})\n",
        "\n",
        "    def add_message(self, text):\n",
        "        new_id = max([m.id for m in self.messages], default=0) + 1\n",
        "        self.messages.append(Message(new_id, text))\n",
        "        self.save_messages()\n",
        "\n",
        "    def get_random_message(self):\n",
        "        if not self.messages:\n",
        "            return \"¡Feliz cumpleaños!\"\n",
        "        return random.choice(self.messages).text\n",
        "\n",
        "    def get_message_by_id(self, id_):\n",
        "        for m in self.messages:\n",
        "            if m.id == id_:\n",
        "                return m.text\n",
        "        return None\n",
        "\n",
        "    def delete_message(self, id_):\n",
        "        self.messages = [m for m in self.messages if m.id != id_]\n",
        "        self.save_messages()\n",
        "\n",
        "    def update_message(self, id_, new_text):\n",
        "        for m in self.messages:\n",
        "            if m.id == id_:\n",
        "                m.text = new_text\n",
        "                break\n",
        "        self.save_messages()\n",
        "\n",
        "def send_email(to_email, subject, body, from_email, from_password, smtp_server=\"smtp.gmail.com\", smtp_port=587):\n",
        "    import ssl\n",
        "    message = f\"\"\"\\\n",
        "Subject: {subject}\n",
        "\n",
        "{body}\n",
        "\"\"\"\n",
        "    context = ssl.create_default_context()\n",
        "    with smtplib.SMTP(smtp_server, smtp_port) as server:\n",
        "        server.ehlo()\n",
        "        server.starttls(context=context)\n",
        "        server.ehlo()\n",
        "        server.login(from_email, from_password)\n",
        "        server.sendmail(from_email, to_email, message.encode(\"utf-8\"))\n",
        "\n",
        "\n",
        "def enviar_felicitaciones(birthday_manager, message_manager, from_email, from_password):\n",
        "    hoy = date.today()\n",
        "    for b in birthday_manager.birthdays:\n",
        "        if b.birthdate.month == hoy.month and b.birthdate.day == hoy.day:\n",
        "            if b.message_id is not None:\n",
        "                texto = message_manager.get_message_by_id(b.message_id) or message_manager.get_random_message()\n",
        "            else:\n",
        "                texto = message_manager.get_random_message()\n",
        "            texto_formateado = texto.format(name=b.name)\n",
        "\n",
        "            try:\n",
        "                send_email(b.email, \"¡Feliz Cumpleaños!\", texto_formateado, from_email, from_password)\n",
        "                print(f\"Correo enviado a {b.name} ({b.email})\")\n",
        "            except Exception as e:\n",
        "                print(f\"Error enviando correo a {b.name}: {e}\")\n"
      ],
      "metadata": {
        "colab": {
          "base_uri": "https://localhost:8080/"
        },
        "id": "ylI6K-EOUARV",
        "outputId": "0d02f34a-ca26-4987-a098-5990d657e06c"
      },
      "id": "ylI6K-EOUARV",
      "execution_count": 2,
      "outputs": [
        {
          "output_type": "stream",
          "name": "stdout",
          "text": [
            "Writing birthday.py\n"
          ]
        }
      ]
    },
    {
      "cell_type": "code",
      "source": [
        "%%writefile app.py\n",
        "\n",
        "import streamlit as st\n",
        "from birthday import BirthdayManager, MessageManager, enviar_felicitaciones\n",
        "\n",
        "bm = BirthdayManager()\n",
        "mm = MessageManager()\n",
        "\n",
        "st.title(\"El felicitador\")\n",
        "\n",
        "menu = [\"Registrar Fechas de Cumpleaños\", \"Próximos Cumpleaños\", \"Mensajes\", \"Enviar Felicitaciones\"]\n",
        "choice = st.sidebar.selectbox(\"Menú\", menu)\n",
        "\n",
        "if choice == \"Registrar Fechas de Cumpleaños\":\n",
        "    st.subheader(\"Añadir Nuevo Cumpleaños\")\n",
        "    name = st.text_input(\"Nombre\")\n",
        "    birthdate = st.date_input(\"Fecha de nacimiento\")\n",
        "    email = st.text_input(\"Correo electrónico\")\n",
        "\n",
        "    options = [\"-- Ninguno --\"] + [f\"{m.id}: {m.text[:30]}...\" for m in mm.messages]\n",
        "    selected = st.selectbox(\"Selecciona mensaje personalizado (opcional)\", options)\n",
        "    selected_id = None\n",
        "    if selected != \"-- Ninguno --\":\n",
        "        selected_id = int(selected.split(\":\")[0])\n",
        "\n",
        "    if st.button(\"Guardar\"):\n",
        "        if name.strip() and email.strip():\n",
        "            bm.add_birthday(name.strip(), str(birthdate), email.strip(), selected_id)\n",
        "            st.success(\"Cumpleaños guardado correctamente.\")\n",
        "        else:\n",
        "            st.error(\"Por favor, completa todos los campos.\")\n",
        "\n",
        "elif choice == \"Próximos Cumpleaños\":\n",
        "    st.subheader(\"Cumpleaños Próximos\")\n",
        "    birthdays = bm.get_upcoming_birthdays()\n",
        "    if not birthdays:\n",
        "        st.info(\"No hay cumpleaños registrados.\")\n",
        "    for b in birthdays:\n",
        "        st.write(f\"{b.name} - en {b.days_until_birthday()} días\")\n",
        "\n",
        "elif choice == \"Mensajes\":\n",
        "    st.subheader(\"Mensajes de Felicitación\")\n",
        "    new_msg = st.text_area(\"Nuevo mensaje\")\n",
        "    if st.button(\"Agregar mensaje\"):\n",
        "        if new_msg.strip():\n",
        "            mm.add_message(new_msg.strip())\n",
        "            st.success(\"Mensaje agregado.\")\n",
        "        else:\n",
        "            st.error(\"El mensaje no puede estar vacío.\")\n",
        "\n",
        "    for m in mm.messages:\n",
        "        st.write(f\"{m.id}: {m.text}\")\n",
        "\n",
        "elif choice == \"Enviar Felicitaciones\":\n",
        "    st.subheader(\"Enviar Correos de Felicitación\")\n",
        "    from_email = st.text_input(\"Remitente (tu email)\")\n",
        "    from_password = st.text_input(\"Contraseña\", type=\"password\")\n",
        "    if st.button(\"Enviar felicitaciones\"):\n",
        "        enviar_felicitaciones(bm, mm, from_email, from_password)\n",
        "        st.success(\"Intento de envío realizado. Revisa la consola para detalles.\")\n"
      ],
      "metadata": {
        "colab": {
          "base_uri": "https://localhost:8080/"
        },
        "id": "fABR89kqUCs_",
        "outputId": "85ffb08d-395c-4c5f-9d47-0616cca7f909"
      },
      "id": "fABR89kqUCs_",
      "execution_count": 3,
      "outputs": [
        {
          "output_type": "stream",
          "name": "stdout",
          "text": [
            "Writing app.py\n"
          ]
        }
      ]
    },
    {
      "cell_type": "code",
      "source": [
        "!npm install localtunnel"
      ],
      "metadata": {
        "colab": {
          "base_uri": "https://localhost:8080/"
        },
        "id": "asADqktWUTP0",
        "outputId": "e94df576-7cfa-4d50-a864-61513f2a68bf"
      },
      "id": "asADqktWUTP0",
      "execution_count": 4,
      "outputs": [
        {
          "output_type": "stream",
          "name": "stdout",
          "text": [
            "\u001b[1G\u001b[0K⠙\u001b[1G\u001b[0K⠹\u001b[1G\u001b[0K⠸\u001b[1G\u001b[0K⠼\u001b[1G\u001b[0K⠴\u001b[1G\u001b[0K⠦\u001b[1G\u001b[0K⠧\u001b[1G\u001b[0K⠇\u001b[1G\u001b[0K⠏\u001b[1G\u001b[0K⠋\u001b[1G\u001b[0K⠙\u001b[1G\u001b[0K⠹\u001b[1G\u001b[0K⠸\u001b[1G\u001b[0K⠼\u001b[1G\u001b[0K⠴\u001b[1G\u001b[0K⠦\u001b[1G\u001b[0K⠧\u001b[1G\u001b[0K⠇\u001b[1G\u001b[0K⠏\u001b[1G\u001b[0K⠋\u001b[1G\u001b[0K⠙\u001b[1G\u001b[0K⠹\u001b[1G\u001b[0K⠸\u001b[1G\u001b[0K⠼\u001b[1G\u001b[0K⠴\u001b[1G\u001b[0K\n",
            "added 22 packages in 3s\n",
            "\u001b[1G\u001b[0K⠴\u001b[1G\u001b[0K\n",
            "\u001b[1G\u001b[0K⠴\u001b[1G\u001b[0K3 packages are looking for funding\n",
            "\u001b[1G\u001b[0K⠴\u001b[1G\u001b[0K  run `npm fund` for details\n",
            "\u001b[1G\u001b[0K⠴\u001b[1G\u001b[0K"
          ]
        }
      ]
    },
    {
      "cell_type": "code",
      "source": [
        "!streamlit run app.py &>/content/logs.txt & npx localtunnel --port 8501 & curl ipv4.icanhazip.com"
      ],
      "metadata": {
        "colab": {
          "base_uri": "https://localhost:8080/"
        },
        "id": "V8tMDdfGUVEu",
        "outputId": "d5157dd1-4393-4299-a4ef-a6c302cd1787"
      },
      "id": "V8tMDdfGUVEu",
      "execution_count": null,
      "outputs": [
        {
          "metadata": {
            "tags": null
          },
          "name": "stdout",
          "output_type": "stream",
          "text": [
            "34.125.53.1\n",
            "\u001b[1G\u001b[0K⠙\u001b[1G\u001b[0Kyour url is: https://some-carpets-argue.loca.lt\n"
          ]
        }
      ]
    }
  ],
  "metadata": {
    "colab": {
      "provenance": []
    },
    "language_info": {
      "name": "python"
    },
    "kernelspec": {
      "name": "python3",
      "display_name": "Python 3"
    }
  },
  "nbformat": 4,
  "nbformat_minor": 5
}